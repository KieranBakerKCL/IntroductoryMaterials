{
 "cells": [
  {
   "cell_type": "markdown",
   "id": "33b3985c",
   "metadata": {},
   "source": [
    "# Statistical Modelling Brown Bag\n",
    "\n",
    "Welcome to the Statistical Modelling brown bag session, where you will be introduced to some of the key concepts we use on a day-to-day basis, and help you think about data in a similar way to us. Run the notebook as the session goes along to see all of this working in real time from your own laptop.\n",
    "\n",
    "#### Some Jupyter Notebook Instructions\n",
    "To run a cell within jupyter notebooks, you can click on the cell and press the run button at the top of the window, or you can use \n",
    "<kbd>Ctrl</kbd>+<kbd>Enter</kbd>. Also <kbd>Shift</kbd>+<kbd>Enter</kbd> will also run the cell and move you on to the next cell. \n",
    "\n",
    "Test this out on the cell below, once you have run it, you will see the words \"Hello World\" appear underneath the cell."
   ]
  },
  {
   "cell_type": "code",
   "execution_count": 14,
   "id": "239f2e06",
   "metadata": {},
   "outputs": [
    {
     "name": "stdout",
     "output_type": "stream",
     "text": [
      "Hello World\n"
     ]
    }
   ],
   "source": [
    "print('Hello World')"
   ]
  },
  {
   "cell_type": "markdown",
   "id": "fe78d889",
   "metadata": {},
   "source": [
    "### Importing packages\n",
    "\n",
    "Now run the cell below to import the packages we need for the session."
   ]
  },
  {
   "cell_type": "code",
   "execution_count": 18,
   "id": "e88c3e66",
   "metadata": {},
   "outputs": [],
   "source": [
    "import pandas as pd\n",
    "import numpy as np\n",
    "from sklearn.linear_model import LinearRegression\n",
    "from sklearn import datasets\n",
    "import matplotlib.pyplot as plt"
   ]
  },
  {
   "cell_type": "markdown",
   "id": "87f6cfc6",
   "metadata": {},
   "source": [
    "## Linear Regression\n",
    "\n",
    "### Simple Linear Regression: Iris Dataset\n",
    "\n",
    "This first cell will read in the data we need for our first example of simple linear regression."
   ]
  },
  {
   "cell_type": "code",
   "execution_count": 16,
   "id": "3bbb50af",
   "metadata": {},
   "outputs": [
    {
     "data": {
      "text/html": [
       "<div>\n",
       "<style scoped>\n",
       "    .dataframe tbody tr th:only-of-type {\n",
       "        vertical-align: middle;\n",
       "    }\n",
       "\n",
       "    .dataframe tbody tr th {\n",
       "        vertical-align: top;\n",
       "    }\n",
       "\n",
       "    .dataframe thead th {\n",
       "        text-align: right;\n",
       "    }\n",
       "</style>\n",
       "<table border=\"1\" class=\"dataframe\">\n",
       "  <thead>\n",
       "    <tr style=\"text-align: right;\">\n",
       "      <th></th>\n",
       "      <th>sepal length (cm)</th>\n",
       "      <th>sepal width (cm)</th>\n",
       "      <th>petal length (cm)</th>\n",
       "      <th>petal width (cm)</th>\n",
       "    </tr>\n",
       "  </thead>\n",
       "  <tbody>\n",
       "    <tr>\n",
       "      <th>0</th>\n",
       "      <td>5.1</td>\n",
       "      <td>3.5</td>\n",
       "      <td>1.4</td>\n",
       "      <td>0.2</td>\n",
       "    </tr>\n",
       "    <tr>\n",
       "      <th>1</th>\n",
       "      <td>4.9</td>\n",
       "      <td>3.0</td>\n",
       "      <td>1.4</td>\n",
       "      <td>0.2</td>\n",
       "    </tr>\n",
       "    <tr>\n",
       "      <th>2</th>\n",
       "      <td>4.7</td>\n",
       "      <td>3.2</td>\n",
       "      <td>1.3</td>\n",
       "      <td>0.2</td>\n",
       "    </tr>\n",
       "    <tr>\n",
       "      <th>3</th>\n",
       "      <td>4.6</td>\n",
       "      <td>3.1</td>\n",
       "      <td>1.5</td>\n",
       "      <td>0.2</td>\n",
       "    </tr>\n",
       "    <tr>\n",
       "      <th>4</th>\n",
       "      <td>5.0</td>\n",
       "      <td>3.6</td>\n",
       "      <td>1.4</td>\n",
       "      <td>0.2</td>\n",
       "    </tr>\n",
       "    <tr>\n",
       "      <th>...</th>\n",
       "      <td>...</td>\n",
       "      <td>...</td>\n",
       "      <td>...</td>\n",
       "      <td>...</td>\n",
       "    </tr>\n",
       "    <tr>\n",
       "      <th>145</th>\n",
       "      <td>6.7</td>\n",
       "      <td>3.0</td>\n",
       "      <td>5.2</td>\n",
       "      <td>2.3</td>\n",
       "    </tr>\n",
       "    <tr>\n",
       "      <th>146</th>\n",
       "      <td>6.3</td>\n",
       "      <td>2.5</td>\n",
       "      <td>5.0</td>\n",
       "      <td>1.9</td>\n",
       "    </tr>\n",
       "    <tr>\n",
       "      <th>147</th>\n",
       "      <td>6.5</td>\n",
       "      <td>3.0</td>\n",
       "      <td>5.2</td>\n",
       "      <td>2.0</td>\n",
       "    </tr>\n",
       "    <tr>\n",
       "      <th>148</th>\n",
       "      <td>6.2</td>\n",
       "      <td>3.4</td>\n",
       "      <td>5.4</td>\n",
       "      <td>2.3</td>\n",
       "    </tr>\n",
       "    <tr>\n",
       "      <th>149</th>\n",
       "      <td>5.9</td>\n",
       "      <td>3.0</td>\n",
       "      <td>5.1</td>\n",
       "      <td>1.8</td>\n",
       "    </tr>\n",
       "  </tbody>\n",
       "</table>\n",
       "<p>150 rows × 4 columns</p>\n",
       "</div>"
      ],
      "text/plain": [
       "     sepal length (cm)  sepal width (cm)  petal length (cm)  petal width (cm)\n",
       "0                  5.1               3.5                1.4               0.2\n",
       "1                  4.9               3.0                1.4               0.2\n",
       "2                  4.7               3.2                1.3               0.2\n",
       "3                  4.6               3.1                1.5               0.2\n",
       "4                  5.0               3.6                1.4               0.2\n",
       "..                 ...               ...                ...               ...\n",
       "145                6.7               3.0                5.2               2.3\n",
       "146                6.3               2.5                5.0               1.9\n",
       "147                6.5               3.0                5.2               2.0\n",
       "148                6.2               3.4                5.4               2.3\n",
       "149                5.9               3.0                5.1               1.8\n",
       "\n",
       "[150 rows x 4 columns]"
      ]
     },
     "execution_count": 16,
     "metadata": {},
     "output_type": "execute_result"
    }
   ],
   "source": [
    "iris = datasets.load_iris()\n",
    "iris_data = pd.DataFrame(iris['data'])\n",
    "iris_data.columns = iris['feature_names']\n",
    "iris_data"
   ]
  },
  {
   "cell_type": "markdown",
   "id": "0b301c20",
   "metadata": {},
   "source": [
    "In simple linear regression, we are fitting a \"line of best fit\" to the data which we can then use to make predictions. Let's see if we can predict the sepal length of an irish from the sepal width. Firstly let's take a look at the data."
   ]
  },
  {
   "cell_type": "code",
   "execution_count": 35,
   "id": "e3529cec",
   "metadata": {},
   "outputs": [
    {
     "data": {
      "text/plain": [
       "Text(0.5, 0, 'petal length (cm)')"
      ]
     },
     "execution_count": 35,
     "metadata": {},
     "output_type": "execute_result"
    },
    {
     "data": {
      "image/png": "[encoded data removed]",
      "text/plain": [
       "<Figure size 432x288 with 1 Axes>"
      ]
     },
     "metadata": {
      "needs_background": "light"
     },
     "output_type": "display_data"
    }
   ],
   "source": [
    "plt.scatter(iris_data['petal length (cm)'], iris_data['sepal length (cm)'])\n",
    "plt.ylabel('sepal length (cm)')\n",
    "plt.xlabel('petal length (cm)')"
   ]
  },
  {
   "cell_type": "markdown",
   "id": "ee8c3681",
   "metadata": {},
   "source": [
    "There does seem to be some correlation here, so let's try and build a model. Now whilst we will be using the phrase \"Linear Model\", if this sounds a bit intimidating, just think of it as a line of best fit - this is fundamentally what linear models are doing.\n",
    "\n",
    "Now recall the form of a line\n",
    "$$y = ax + b$$\n",
    "we call $a$ the gradient, and $b$ the y-intercept. Remember\n",
    "\n",
    "* $a$: the gradient tells you how far you need to move up, for every one unit you move across\n",
    "* $b$: the y-intercept tells you where you would cross the y-axis (when x = 0)\n",
    "\n",
    "Now let's fit and plot our linear model"
   ]
  },
  {
   "cell_type": "code",
   "execution_count": 43,
   "id": "173b92f8",
   "metadata": {},
   "outputs": [
    {
     "name": "stdout",
     "output_type": "stream",
     "text": [
      "intercept: 4.306603415047579\n",
      "slope: [0.40892228]\n"
     ]
    }
   ],
   "source": [
    "reg = LinearRegression(fit_intercept=True)\n",
    "x = np.array(iris_data['petal length (cm)']).reshape((-1, 1))\n",
    "y = np.array(iris_data['sepal length (cm)'])\n",
    "mod = reg.fit(x,y)\n",
    "print(f\"intercept: {mod.intercept_}\")\n",
    "print(f\"slope: {mod.coef_}\")"
   ]
  },
  {
   "cell_type": "markdown",
   "id": "cd427fdc",
   "metadata": {},
   "source": [
    "So the equation of the line is \n",
    "\n",
    "$$y = 0.41x + 4.31$$ \n",
    "\n",
    "Which we can plot on our graph from before"
   ]
  },
  {
   "cell_type": "code",
   "execution_count": 54,
   "id": "65073871",
   "metadata": {},
   "outputs": [
    {
     "data": {
      "text/plain": [
       "[<matplotlib.lines.Line2D at 0x7f8c5e25c370>]"
      ]
     },
     "execution_count": 54,
     "metadata": {},
     "output_type": "execute_result"
    },
    {
     "data": {
      "image/png": "[encoded data removed]",
      "text/plain": [
       "<Figure size 432x288 with 1 Axes>"
      ]
     },
     "metadata": {
      "needs_background": "light"
     },
     "output_type": "display_data"
    }
   ],
   "source": [
    "plt.scatter(iris_data['petal length (cm)'], iris_data['sepal length (cm)'])\n",
    "plt.ylabel('sepal length (cm)')\n",
    "plt.xlabel('petal length (cm)')\n",
    "xmin = min(iris_data['petal length (cm)'])-1\n",
    "xmax = max(iris_data['petal length (cm)'])+1\n",
    "ymin = mod.intercept_ + mod.coef_[0]*xmin\n",
    "ymax = mod.intercept_ + mod.coef_[0]*xmax\n",
    "plt.plot([xmin, xmax], [ymin, ymax], color='red')"
   ]
  },
  {
   "cell_type": "markdown",
   "id": "b4694c75",
   "metadata": {},
   "source": [
    "Given a new petal length measurement, say 3cm, we can use our model to get the expected sepal length:\n",
    "\n",
    "$$0.41\\times 3 + 4.31 = 5.54$$ \n",
    "that is, 5.54cm."
   ]
  },
  {
   "cell_type": "markdown",
   "id": "e0a24719",
   "metadata": {},
   "source": [
    "### Multiple Linear Regression"
   ]
  }
 ],
 "metadata": {
  "kernelspec": {
   "display_name": "Python 3 (ipykernel)",
   "language": "python",
   "name": "python3"
  },
  "language_info": {
   "codemirror_mode": {
    "name": "ipython",
    "version": 3
   },
   "file_extension": ".py",
   "mimetype": "text/x-python",
   "name": "python",
   "nbconvert_exporter": "python",
   "pygments_lexer": "ipython3",
   "version": "3.9.12"
  }
 },
 "nbformat": 4,
 "nbformat_minor": 5
}
